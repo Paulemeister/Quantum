{
 "cells": [
  {
   "cell_type": "code",
   "execution_count": 1,
   "metadata": {},
   "outputs": [],
   "source": [
    "\"\"\"Example usage of the Quantum Inspire backend with the QisKit SDK.A simple example that demonstrates how to use the SDK to create a circuit to create a Bell state, and simulate the circuit on Quantum Inspire.For documentation on how to use QisKit we refer to [https://qiskit.org/](https://qiskit.org/).Specific to Quantum Inspire is the creation of the QI instance, which is used to set the authentication of the user and provides a Quantum Inspire backend that is used to execute the circuit.Copyright 2018-19 QuTech Delft. Licensed under the Apache License, Version 2.0.\n",
    "\"\"\"\n",
    "from getpass import getpass\n",
    "from qiskit.circuit import QuantumRegister, ClassicalRegister, QuantumCircuit\n",
    "from qiskit.execute_function import execute\n",
    "from quantuminspire.qiskit import QI"
   ]
  },
  {
   "cell_type": "code",
   "execution_count": 2,
   "metadata": {},
   "outputs": [],
   "source": [
    "from quantuminspire.credentials import enable_account\n",
    "enable_account('dbed22a87e13ce3d21250d898fb9d73a7990b23b')\n",
    "QI.set_authentication()\n",
    "qi_backend = QI.get_backend('QX single-node simulator')"
   ]
  },
  {
   "cell_type": "code",
   "execution_count": 3,
   "metadata": {},
   "outputs": [
    {
     "data": {
      "text/plain": [
       "<qiskit.circuit.instructionset.InstructionSet at 0x7f03be0efc40>"
      ]
     },
     "execution_count": 3,
     "metadata": {},
     "output_type": "execute_result"
    }
   ],
   "source": [
    "q = QuantumRegister(2)\n",
    "b = ClassicalRegister(2)\n",
    "circuit = QuantumCircuit(q, b)    \n",
    "circuit.h(q[0])\n",
    "circuit.cx(q[0], q[1])\n",
    "circuit.measure(q, b)"
   ]
  },
  {
   "cell_type": "code",
   "execution_count": 4,
   "metadata": {},
   "outputs": [
    {
     "name": "stdout",
     "output_type": "stream",
     "text": [
      "\n",
      "State\tCounts\n",
      "00\t0.484375\n",
      "11\t0.515625\n"
     ]
    }
   ],
   "source": [
    "n=256\n",
    "qi_job = execute(circuit, backend=qi_backend, shots=n)\n",
    "qi_result = qi_job.result()\n",
    "histogram = qi_result.get_counts(circuit)\n",
    "print('\\nState\\tCounts')\n",
    "for state, counts in histogram.items():\n",
    "    print('{0}\\t{1}'.format(state, counts/n)) "
   ]
  }
 ],
 "metadata": {
  "kernelspec": {
   "display_name": "quantum",
   "language": "python",
   "name": "python3"
  },
  "language_info": {
   "codemirror_mode": {
    "name": "ipython",
    "version": 3
   },
   "file_extension": ".py",
   "mimetype": "text/x-python",
   "name": "python",
   "nbconvert_exporter": "python",
   "pygments_lexer": "ipython3",
   "version": "3.10.12"
  }
 },
 "nbformat": 4,
 "nbformat_minor": 2
}
